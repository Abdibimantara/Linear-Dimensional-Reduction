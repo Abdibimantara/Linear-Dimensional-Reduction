{
 "cells": [
  {
   "cell_type": "code",
   "execution_count": 1,
   "id": "b43d4353",
   "metadata": {},
   "outputs": [],
   "source": [
    "import time\n",
    "start_time = time.time()\n",
    "import pandas as pd\n",
    "import numpy as np\n",
    "from sklearn.preprocessing import StandardScaler\n",
    "from sklearn.decomposition import PCA\n",
    "import matplotlib.pyplot as plt\n",
    "from sklearn.linear_model import LogisticRegression\n",
    "from sklearn import metrics\n",
    "from sklearn.model_selection import train_test_split\n",
    "from sklearn.metrics import confusion_matrix\n",
    "import seaborn as sns\n",
    "from sklearn.metrics import classification_report\n",
    "from sklearn.metrics import roc_auc_score\n",
    "from sklearn.metrics import roc_curve"
   ]
  },
  {
   "cell_type": "code",
   "execution_count": 2,
   "id": "e7e5bf8b",
   "metadata": {
    "scrolled": false
   },
   "outputs": [
    {
     "data": {
      "text/html": [
       "<div>\n",
       "<style scoped>\n",
       "    .dataframe tbody tr th:only-of-type {\n",
       "        vertical-align: middle;\n",
       "    }\n",
       "\n",
       "    .dataframe tbody tr th {\n",
       "        vertical-align: top;\n",
       "    }\n",
       "\n",
       "    .dataframe thead th {\n",
       "        text-align: right;\n",
       "    }\n",
       "</style>\n",
       "<table border=\"1\" class=\"dataframe\">\n",
       "  <thead>\n",
       "    <tr style=\"text-align: right;\">\n",
       "      <th></th>\n",
       "      <th>millisecond</th>\n",
       "      <th>classification</th>\n",
       "      <th>state</th>\n",
       "      <th>usage_counter</th>\n",
       "      <th>prio</th>\n",
       "      <th>static_prio</th>\n",
       "      <th>normal_prio</th>\n",
       "      <th>policy</th>\n",
       "      <th>vm_pgoff</th>\n",
       "      <th>vm_truncate_count</th>\n",
       "      <th>...</th>\n",
       "      <th>nivcsw</th>\n",
       "      <th>min_flt</th>\n",
       "      <th>maj_flt</th>\n",
       "      <th>fs_excl_counter</th>\n",
       "      <th>lock</th>\n",
       "      <th>utime</th>\n",
       "      <th>stime</th>\n",
       "      <th>gtime</th>\n",
       "      <th>cgtime</th>\n",
       "      <th>signal_nvcsw</th>\n",
       "    </tr>\n",
       "  </thead>\n",
       "  <tbody>\n",
       "    <tr>\n",
       "      <th>0</th>\n",
       "      <td>0</td>\n",
       "      <td>1</td>\n",
       "      <td>0</td>\n",
       "      <td>0</td>\n",
       "      <td>3069378560</td>\n",
       "      <td>14274</td>\n",
       "      <td>0</td>\n",
       "      <td>0</td>\n",
       "      <td>0</td>\n",
       "      <td>13173</td>\n",
       "      <td>...</td>\n",
       "      <td>0</td>\n",
       "      <td>0</td>\n",
       "      <td>120</td>\n",
       "      <td>0</td>\n",
       "      <td>3204448256</td>\n",
       "      <td>380690</td>\n",
       "      <td>4</td>\n",
       "      <td>0</td>\n",
       "      <td>0</td>\n",
       "      <td>0</td>\n",
       "    </tr>\n",
       "    <tr>\n",
       "      <th>1</th>\n",
       "      <td>1</td>\n",
       "      <td>1</td>\n",
       "      <td>0</td>\n",
       "      <td>0</td>\n",
       "      <td>3069378560</td>\n",
       "      <td>14274</td>\n",
       "      <td>0</td>\n",
       "      <td>0</td>\n",
       "      <td>0</td>\n",
       "      <td>13173</td>\n",
       "      <td>...</td>\n",
       "      <td>0</td>\n",
       "      <td>0</td>\n",
       "      <td>120</td>\n",
       "      <td>0</td>\n",
       "      <td>3204448256</td>\n",
       "      <td>380690</td>\n",
       "      <td>4</td>\n",
       "      <td>0</td>\n",
       "      <td>0</td>\n",
       "      <td>0</td>\n",
       "    </tr>\n",
       "    <tr>\n",
       "      <th>2</th>\n",
       "      <td>2</td>\n",
       "      <td>1</td>\n",
       "      <td>0</td>\n",
       "      <td>0</td>\n",
       "      <td>3069378560</td>\n",
       "      <td>14274</td>\n",
       "      <td>0</td>\n",
       "      <td>0</td>\n",
       "      <td>0</td>\n",
       "      <td>13173</td>\n",
       "      <td>...</td>\n",
       "      <td>0</td>\n",
       "      <td>0</td>\n",
       "      <td>120</td>\n",
       "      <td>0</td>\n",
       "      <td>3204448256</td>\n",
       "      <td>380690</td>\n",
       "      <td>4</td>\n",
       "      <td>0</td>\n",
       "      <td>0</td>\n",
       "      <td>0</td>\n",
       "    </tr>\n",
       "    <tr>\n",
       "      <th>3</th>\n",
       "      <td>3</td>\n",
       "      <td>1</td>\n",
       "      <td>0</td>\n",
       "      <td>0</td>\n",
       "      <td>3069378560</td>\n",
       "      <td>14274</td>\n",
       "      <td>0</td>\n",
       "      <td>0</td>\n",
       "      <td>0</td>\n",
       "      <td>13173</td>\n",
       "      <td>...</td>\n",
       "      <td>0</td>\n",
       "      <td>0</td>\n",
       "      <td>120</td>\n",
       "      <td>0</td>\n",
       "      <td>3204448256</td>\n",
       "      <td>380690</td>\n",
       "      <td>4</td>\n",
       "      <td>0</td>\n",
       "      <td>0</td>\n",
       "      <td>0</td>\n",
       "    </tr>\n",
       "    <tr>\n",
       "      <th>4</th>\n",
       "      <td>4</td>\n",
       "      <td>1</td>\n",
       "      <td>0</td>\n",
       "      <td>0</td>\n",
       "      <td>3069378560</td>\n",
       "      <td>14274</td>\n",
       "      <td>0</td>\n",
       "      <td>0</td>\n",
       "      <td>0</td>\n",
       "      <td>13173</td>\n",
       "      <td>...</td>\n",
       "      <td>0</td>\n",
       "      <td>0</td>\n",
       "      <td>120</td>\n",
       "      <td>0</td>\n",
       "      <td>3204448256</td>\n",
       "      <td>380690</td>\n",
       "      <td>4</td>\n",
       "      <td>0</td>\n",
       "      <td>0</td>\n",
       "      <td>0</td>\n",
       "    </tr>\n",
       "  </tbody>\n",
       "</table>\n",
       "<p>5 rows × 34 columns</p>\n",
       "</div>"
      ],
      "text/plain": [
       "   millisecond  classification  state  usage_counter        prio  static_prio  \\\n",
       "0            0               1      0              0  3069378560        14274   \n",
       "1            1               1      0              0  3069378560        14274   \n",
       "2            2               1      0              0  3069378560        14274   \n",
       "3            3               1      0              0  3069378560        14274   \n",
       "4            4               1      0              0  3069378560        14274   \n",
       "\n",
       "   normal_prio  policy  vm_pgoff  vm_truncate_count  ...  nivcsw  min_flt  \\\n",
       "0            0       0         0              13173  ...       0        0   \n",
       "1            0       0         0              13173  ...       0        0   \n",
       "2            0       0         0              13173  ...       0        0   \n",
       "3            0       0         0              13173  ...       0        0   \n",
       "4            0       0         0              13173  ...       0        0   \n",
       "\n",
       "   maj_flt  fs_excl_counter        lock   utime  stime  gtime  cgtime  \\\n",
       "0      120                0  3204448256  380690      4      0       0   \n",
       "1      120                0  3204448256  380690      4      0       0   \n",
       "2      120                0  3204448256  380690      4      0       0   \n",
       "3      120                0  3204448256  380690      4      0       0   \n",
       "4      120                0  3204448256  380690      4      0       0   \n",
       "\n",
       "   signal_nvcsw  \n",
       "0             0  \n",
       "1             0  \n",
       "2             0  \n",
       "3             0  \n",
       "4             0  \n",
       "\n",
       "[5 rows x 34 columns]"
      ]
     },
     "execution_count": 2,
     "metadata": {},
     "output_type": "execute_result"
    }
   ],
   "source": [
    "dataset=pd.read_csv(\"pakben.csv\")\n",
    "dataset=dataset.drop(['hash'],axis=1)\n",
    "dataset['classification'] = dataset['classification'].replace(['malware','benign',],[1,0])\n",
    "dataset.head()"
   ]
  },
  {
   "cell_type": "code",
   "execution_count": 3,
   "id": "7a1fa164",
   "metadata": {},
   "outputs": [],
   "source": [
    "x = dataset.drop(columns=['classification']).values\n",
    "y = dataset[\"classification\"].values\n",
    "x = StandardScaler().fit_transform(x)"
   ]
  },
  {
   "cell_type": "code",
   "execution_count": 4,
   "id": "2a1e0efa",
   "metadata": {},
   "outputs": [],
   "source": [
    "pca = PCA(n_components=5)\n",
    "principalComponents = pca.fit_transform(x)\n",
    "principalDf = pd.DataFrame(data = principalComponents\n",
    "             , columns = ['principal component 1','principal component 2','principal component 3','principal component 4','principal component 5'])\n",
    "finalDf = pd.concat([principalDf, dataset[['classification']]], axis = 1)"
   ]
  },
  {
   "cell_type": "code",
   "execution_count": 5,
   "id": "d2e04508",
   "metadata": {},
   "outputs": [
    {
     "data": {
      "image/png": "[encoded data removed]",
      "text/plain": [
       "<Figure size 576x576 with 1 Axes>"
      ]
     },
     "metadata": {
      "needs_background": "light"
     },
     "output_type": "display_data"
    }
   ],
   "source": [
    "fig = plt.figure(figsize = (8,8))\n",
    "ax = fig.add_subplot(1,1,1) \n",
    "ax.set_xlabel('Principal Component 1', fontsize = 15)\n",
    "ax.set_ylabel('Principal Component 2', fontsize = 15)\n",
    "ax.set_title('2 component PCA', fontsize = 20)\n",
    "targets = [0,1]\n",
    "colors = ['r', 'g']\n",
    "for classification, color in zip(targets,colors):\n",
    "    indicesToKeep = finalDf['classification'] == classification\n",
    "    ax.scatter(finalDf.loc[indicesToKeep, 'principal component 1']\n",
    "               , finalDf.loc[indicesToKeep, 'principal component 2']\n",
    "               , c = color\n",
    "               , s = 50)\n",
    "ax.legend(targets)\n",
    "ax.grid()\n",
    "plt.savefig(\"Dimensional Reduction using PCA.png\", dpi=150)"
   ]
  },
  {
   "cell_type": "code",
   "execution_count": 6,
   "id": "048cad11",
   "metadata": {},
   "outputs": [
    {
     "name": "stdout",
     "output_type": "stream",
     "text": [
      "Waktu proses reduksi dimensi : 7.099261283874512 seconds\n"
     ]
    }
   ],
   "source": [
    "print(\"Waktu proses reduksi dimensi : %s seconds\" % (time.time() - start_time))"
   ]
  },
  {
   "cell_type": "code",
   "execution_count": 7,
   "id": "404022f0",
   "metadata": {},
   "outputs": [
    {
     "data": {
      "text/html": [
       "<div>\n",
       "<style scoped>\n",
       "    .dataframe tbody tr th:only-of-type {\n",
       "        vertical-align: middle;\n",
       "    }\n",
       "\n",
       "    .dataframe tbody tr th {\n",
       "        vertical-align: top;\n",
       "    }\n",
       "\n",
       "    .dataframe thead th {\n",
       "        text-align: right;\n",
       "    }\n",
       "</style>\n",
       "<table border=\"1\" class=\"dataframe\">\n",
       "  <thead>\n",
       "    <tr style=\"text-align: right;\">\n",
       "      <th></th>\n",
       "      <th>principal component 1</th>\n",
       "      <th>principal component 2</th>\n",
       "      <th>principal component 3</th>\n",
       "      <th>principal component 4</th>\n",
       "      <th>principal component 5</th>\n",
       "      <th>classification</th>\n",
       "    </tr>\n",
       "  </thead>\n",
       "  <tbody>\n",
       "    <tr>\n",
       "      <th>0</th>\n",
       "      <td>-1.758251</td>\n",
       "      <td>-0.386416</td>\n",
       "      <td>0.351616</td>\n",
       "      <td>-0.894985</td>\n",
       "      <td>-0.348493</td>\n",
       "      <td>1</td>\n",
       "    </tr>\n",
       "    <tr>\n",
       "      <th>1</th>\n",
       "      <td>-1.757862</td>\n",
       "      <td>-0.386008</td>\n",
       "      <td>0.352114</td>\n",
       "      <td>-0.894785</td>\n",
       "      <td>-0.347584</td>\n",
       "      <td>1</td>\n",
       "    </tr>\n",
       "    <tr>\n",
       "      <th>2</th>\n",
       "      <td>-1.757473</td>\n",
       "      <td>-0.385600</td>\n",
       "      <td>0.352611</td>\n",
       "      <td>-0.894585</td>\n",
       "      <td>-0.346675</td>\n",
       "      <td>1</td>\n",
       "    </tr>\n",
       "    <tr>\n",
       "      <th>3</th>\n",
       "      <td>-1.757084</td>\n",
       "      <td>-0.385192</td>\n",
       "      <td>0.353109</td>\n",
       "      <td>-0.894384</td>\n",
       "      <td>-0.345766</td>\n",
       "      <td>1</td>\n",
       "    </tr>\n",
       "    <tr>\n",
       "      <th>4</th>\n",
       "      <td>-1.756695</td>\n",
       "      <td>-0.384784</td>\n",
       "      <td>0.353606</td>\n",
       "      <td>-0.894184</td>\n",
       "      <td>-0.344857</td>\n",
       "      <td>1</td>\n",
       "    </tr>\n",
       "    <tr>\n",
       "      <th>...</th>\n",
       "      <td>...</td>\n",
       "      <td>...</td>\n",
       "      <td>...</td>\n",
       "      <td>...</td>\n",
       "      <td>...</td>\n",
       "      <td>...</td>\n",
       "    </tr>\n",
       "    <tr>\n",
       "      <th>99995</th>\n",
       "      <td>-4.023163</td>\n",
       "      <td>0.416120</td>\n",
       "      <td>-0.330705</td>\n",
       "      <td>-0.061523</td>\n",
       "      <td>0.713547</td>\n",
       "      <td>1</td>\n",
       "    </tr>\n",
       "    <tr>\n",
       "      <th>99996</th>\n",
       "      <td>-4.022775</td>\n",
       "      <td>0.416528</td>\n",
       "      <td>-0.330208</td>\n",
       "      <td>-0.061322</td>\n",
       "      <td>0.714456</td>\n",
       "      <td>1</td>\n",
       "    </tr>\n",
       "    <tr>\n",
       "      <th>99997</th>\n",
       "      <td>-4.022386</td>\n",
       "      <td>0.416936</td>\n",
       "      <td>-0.329710</td>\n",
       "      <td>-0.061122</td>\n",
       "      <td>0.715365</td>\n",
       "      <td>1</td>\n",
       "    </tr>\n",
       "    <tr>\n",
       "      <th>99998</th>\n",
       "      <td>-4.021997</td>\n",
       "      <td>0.417344</td>\n",
       "      <td>-0.329213</td>\n",
       "      <td>-0.060922</td>\n",
       "      <td>0.716274</td>\n",
       "      <td>1</td>\n",
       "    </tr>\n",
       "    <tr>\n",
       "      <th>99999</th>\n",
       "      <td>-4.021608</td>\n",
       "      <td>0.417752</td>\n",
       "      <td>-0.328715</td>\n",
       "      <td>-0.060721</td>\n",
       "      <td>0.717184</td>\n",
       "      <td>1</td>\n",
       "    </tr>\n",
       "  </tbody>\n",
       "</table>\n",
       "<p>100000 rows × 6 columns</p>\n",
       "</div>"
      ],
      "text/plain": [
       "       principal component 1  principal component 2  principal component 3  \\\n",
       "0                  -1.758251              -0.386416               0.351616   \n",
       "1                  -1.757862              -0.386008               0.352114   \n",
       "2                  -1.757473              -0.385600               0.352611   \n",
       "3                  -1.757084              -0.385192               0.353109   \n",
       "4                  -1.756695              -0.384784               0.353606   \n",
       "...                      ...                    ...                    ...   \n",
       "99995              -4.023163               0.416120              -0.330705   \n",
       "99996              -4.022775               0.416528              -0.330208   \n",
       "99997              -4.022386               0.416936              -0.329710   \n",
       "99998              -4.021997               0.417344              -0.329213   \n",
       "99999              -4.021608               0.417752              -0.328715   \n",
       "\n",
       "       principal component 4  principal component 5  classification  \n",
       "0                  -0.894985              -0.348493               1  \n",
       "1                  -0.894785              -0.347584               1  \n",
       "2                  -0.894585              -0.346675               1  \n",
       "3                  -0.894384              -0.345766               1  \n",
       "4                  -0.894184              -0.344857               1  \n",
       "...                      ...                    ...             ...  \n",
       "99995              -0.061523               0.713547               1  \n",
       "99996              -0.061322               0.714456               1  \n",
       "99997              -0.061122               0.715365               1  \n",
       "99998              -0.060922               0.716274               1  \n",
       "99999              -0.060721               0.717184               1  \n",
       "\n",
       "[100000 rows x 6 columns]"
      ]
     },
     "execution_count": 7,
     "metadata": {},
     "output_type": "execute_result"
    }
   ],
   "source": [
    "finalDf"
   ]
  },
  {
   "cell_type": "code",
   "execution_count": 8,
   "id": "4ea4e66a",
   "metadata": {},
   "outputs": [],
   "source": [
    "x=finalDf.iloc[:,0:5].values\n",
    "y=finalDf[\"classification\"].values"
   ]
  },
  {
   "cell_type": "code",
   "execution_count": 9,
   "id": "1c4bd0d6",
   "metadata": {},
   "outputs": [
    {
     "data": {
      "text/plain": [
       "array([[-1.75825052, -0.38641608,  0.35161618, -0.89498534, -0.34849342],\n",
       "       [-1.75786156, -0.38600806,  0.35211373, -0.89478505, -0.34758427],\n",
       "       [-1.7574726 , -0.38560005,  0.35261128, -0.89458477, -0.34667511],\n",
       "       ...,\n",
       "       [-4.02238557,  0.41693627, -0.32971021, -0.061122  ,  0.71536529],\n",
       "       [-4.02199661,  0.41734428, -0.32921266, -0.06092172,  0.71627444],\n",
       "       [-4.02160765,  0.4177523 , -0.32871511, -0.06072143,  0.71718359]])"
      ]
     },
     "execution_count": 9,
     "metadata": {},
     "output_type": "execute_result"
    }
   ],
   "source": [
    "x"
   ]
  },
  {
   "cell_type": "code",
   "execution_count": 10,
   "id": "704458b8",
   "metadata": {},
   "outputs": [
    {
     "data": {
      "text/plain": [
       "array([1, 1, 1, ..., 1, 1, 1], dtype=int64)"
      ]
     },
     "execution_count": 10,
     "metadata": {},
     "output_type": "execute_result"
    }
   ],
   "source": [
    "y"
   ]
  },
  {
   "cell_type": "code",
   "execution_count": 11,
   "id": "9cef53ec",
   "metadata": {},
   "outputs": [
    {
     "data": {
      "text/plain": [
       "LogisticRegression()"
      ]
     },
     "execution_count": 11,
     "metadata": {},
     "output_type": "execute_result"
    }
   ],
   "source": [
    "X_train, X_test, y_train, y_test = train_test_split(x, y, test_size=0.3, random_state=5,stratify=y)\n",
    "logreg = LogisticRegression()\n",
    "logreg.fit(X_train, y_train)"
   ]
  },
  {
   "cell_type": "code",
   "execution_count": 12,
   "id": "1001039b",
   "metadata": {
    "scrolled": true
   },
   "outputs": [
    {
     "name": "stdout",
     "output_type": "stream",
     "text": [
      "Accuracy of logistic regression classifier on test set: 0.82197\n",
      "\n",
      "[[12308  2692]\n",
      " [ 2649 12351]]\n",
      "\n",
      "              precision    recall  f1-score   support\n",
      "\n",
      "           0       0.82      0.82      0.82     15000\n",
      "           1       0.82      0.82      0.82     15000\n",
      "\n",
      "    accuracy                           0.82     30000\n",
      "   macro avg       0.82      0.82      0.82     30000\n",
      "weighted avg       0.82      0.82      0.82     30000\n",
      "\n"
     ]
    },
    {
     "data": {
      "image/png": "[encoded data removed]",
      "text/plain": [
       "<Figure size 432x288 with 2 Axes>"
      ]
     },
     "metadata": {
      "needs_background": "light"
     },
     "output_type": "display_data"
    }
   ],
   "source": [
    "y_pred = logreg.predict(X_test)\n",
    "print('Accuracy of logistic regression classifier on test set: {:.5f}'.format(logreg.score(X_test, y_test)))\n",
    "print(\"\")\n",
    "confusion_matrix = confusion_matrix(y_test, y_pred)\n",
    "print(confusion_matrix)\n",
    "sns.heatmap(confusion_matrix/np.sum(confusion_matrix), annot=True, fmt='.2%',cmap='BuGn')\n",
    "print(\"\")\n",
    "print(classification_report(y_test, y_pred))"
   ]
  },
  {
   "cell_type": "code",
   "execution_count": 13,
   "id": "35f96af6",
   "metadata": {},
   "outputs": [
    {
     "data": {
      "image/png": "[encoded data removed]",
      "text/plain": [
       "<Figure size 432x288 with 1 Axes>"
      ]
     },
     "metadata": {
      "needs_background": "light"
     },
     "output_type": "display_data"
    },
    {
     "data": {
      "text/plain": [
       "<Figure size 432x288 with 0 Axes>"
      ]
     },
     "metadata": {},
     "output_type": "display_data"
    }
   ],
   "source": [
    "logit_roc_auc = roc_auc_score(y_test, logreg.predict(X_test))\n",
    "fpr, tpr, thresholds = roc_curve(y_test, logreg.predict_proba(X_test)[:,1])\n",
    "plt.figure()\n",
    "plt.plot(fpr, tpr, label='Logistic Regression (area = %0.2f)' % logit_roc_auc)\n",
    "plt.plot([0, 1], [0, 1],'r--')\n",
    "plt.xlim([0.0, 1.0])\n",
    "plt.ylim([0.0, 1.05])\n",
    "plt.xlabel('False Positive Rate')\n",
    "plt.ylabel('True Positive Rate')\n",
    "plt.title('Receiver operating characteristic')\n",
    "plt.legend(loc=\"lower right\")\n",
    "plt.savefig('Log_ROC')\n",
    "plt.show()\n",
    "plt.savefig(\"ROC Curve using PCA.png\", dpi=150)"
   ]
  },
  {
   "cell_type": "code",
   "execution_count": null,
   "id": "210d6d62",
   "metadata": {},
   "outputs": [],
   "source": []
  }
 ],
 "metadata": {
  "kernelspec": {
   "display_name": "Python 3",
   "language": "python",
   "name": "python3"
  },
  "language_info": {
   "codemirror_mode": {
    "name": "ipython",
    "version": 3
   },
   "file_extension": ".py",
   "mimetype": "text/x-python",
   "name": "python",
   "nbconvert_exporter": "python",
   "pygments_lexer": "ipython3",
   "version": "3.9.4"
  }
 },
 "nbformat": 4,
 "nbformat_minor": 5
}
